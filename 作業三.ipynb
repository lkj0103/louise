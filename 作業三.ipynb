{
  "nbformat": 4,
  "nbformat_minor": 0,
  "metadata": {
    "colab": {
      "provenance": [],
      "authorship_tag": "ABX9TyObtwlhS2kVz1T2LVgn9ahU",
      "include_colab_link": true
    },
    "kernelspec": {
      "name": "python3",
      "display_name": "Python 3"
    },
    "language_info": {
      "name": "python"
    }
  },
  "cells": [
    {
      "cell_type": "markdown",
      "metadata": {
        "id": "view-in-github",
        "colab_type": "text"
      },
      "source": [
        "<a href=\"https://colab.research.google.com/github/lkj0103/louise/blob/main/%E4%BD%9C%E6%A5%AD%E4%B8%89.ipynb\" target=\"_parent\"><img src=\"https://colab.research.google.com/assets/colab-badge.svg\" alt=\"Open In Colab\"/></a>"
      ]
    },
    {
      "cell_type": "code",
      "execution_count": null,
      "metadata": {
        "id": "zJReeZK1E4Iv"
      },
      "outputs": [],
      "source": [
        "a=[]\n",
        "d=0\n",
        "for a in range(1,1001):\n",
        " if a%2 == 0:\n",
        "   pass\n",
        " elif a%3 ==0:\n",
        "   pass\n",
        " elif a%5 ==0:\n",
        "   pass\n",
        " elif a%7 ==0:\n",
        "   pass\n",
        " else:\n",
        "   d=d+1\n",
        "   b=print(a)\n",
        "print(d)"
      ]
    }
  ]
}