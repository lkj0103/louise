{
  "nbformat": 4,
  "nbformat_minor": 0,
  "metadata": {
    "colab": {
      "provenance": [],
      "authorship_tag": "ABX9TyPSzekqiaHiPEBAkiibdR9k",
      "include_colab_link": true
    },
    "kernelspec": {
      "name": "python3",
      "display_name": "Python 3"
    },
    "language_info": {
      "name": "python"
    }
  },
  "cells": [
    {
      "cell_type": "markdown",
      "metadata": {
        "id": "view-in-github",
        "colab_type": "text"
      },
      "source": [
        "<a href=\"https://colab.research.google.com/github/lkj0103/louise/blob/main/%E4%BD%9C%E6%A5%AD2.ipynb\" target=\"_parent\"><img src=\"https://colab.research.google.com/assets/colab-badge.svg\" alt=\"Open In Colab\"/></a>"
      ]
    },
    {
      "cell_type": "code",
      "execution_count": null,
      "metadata": {
        "id": "PJIGGIIEF02l"
      },
      "outputs": [],
      "source": [
        "text = \"大道之行也，天下為公。選賢與能，講信修睦。故人不獨親其親，不獨子其子；使老有所終，壯有所用，幼有所長，矜寡孤獨廢疾者，皆有所養；男有分女有歸。貨惡其棄於地也不必藏於己；力惡其不出於身也不必為己。是故謀閉而不興，盜竊亂賊而不作，故外戶而不閉，是謂「大同」。\"\n",
        "\n",
        "# 總共多少文字（空格不算字元）\n",
        "num_chars = len(text.replace(\" \", \"\"))\n",
        "print(num_chars)\n",
        "\n",
        "# 文章分段落顯示出來\n",
        "sentences = text.split(\"。\")\n",
        "for sentence in sentences:\n",
        "    print(sentence.strip(\" \") + \"。\")\n",
        "\n",
        "# 文章中共有多少的“不”字\n",
        "num_nonos = text.count(\"不\")\n",
        "print(num_nonos)\n"
      ]
    }
  ]
}